{
 "cells": [
  {
   "cell_type": "code",
   "execution_count": null,
   "metadata": {},
   "outputs": [],
   "source": [
    "# # Install if not already installed\n",
    "# !pip3 install datasets --quiet\n",
    "# !pip3 install nltk --quiet\n",
    "\n",
    "# Imports\n",
    "from datasets import load_dataset\n",
    "from nltk.tokenize import sent_tokenize\n",
    "import nltk\n",
    "nltk.download(\"punkt\")\n",
    "\n",
    "# --- 1. Load a small sample from the Wikipedia dataset ---\n",
    "wiki = load_dataset(\"wikipedia\", \"20220301.en\", split='train[:1%]')\n",
    "print(\"\\n📘 Sample Wikipedia article (raw text):\\n\")\n",
    "print(wiki[0]['text'][:1000])  # Show the first 1000 characters\n",
    "\n",
    "# --- 2. Sentence tokenize the first article ---\n",
    "sentences = sent_tokenize(wiki[0]['text'])\n",
    "print(\"\\n📌 Tokenized sentences from the first article:\\n\")\n",
    "for i, sent in enumerate(sentences[:5]):\n",
    "    print(f\"{i+1}. {sent}\")\n",
    "\n",
    "# --- 3. Load WikiText dataset (cleaner format) ---\n",
    "wikitext = load_dataset(\"wikitext\", \"wikitext-103-raw-v1\", split=\"train[:1%]\")\n",
    "print(\"\\n📙 Sample WikiText lines:\\n\")\n",
    "for i, line in enumerate(wikitext[:5]['text']):\n",
    "    print(f\"{i+1}. {line}\")\n"
   ]
  }
 ],
 "metadata": {
  "kernelspec": {
   "display_name": ".venv",
   "language": "python",
   "name": "python3"
  },
  "language_info": {
   "codemirror_mode": {
    "name": "ipython",
    "version": 3
   },
   "file_extension": ".py",
   "mimetype": "text/x-python",
   "name": "python",
   "nbconvert_exporter": "python",
   "pygments_lexer": "ipython3",
   "version": "3.12.7"
  }
 },
 "nbformat": 4,
 "nbformat_minor": 2
}
