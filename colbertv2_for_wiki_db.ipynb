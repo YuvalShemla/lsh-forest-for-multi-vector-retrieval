{
 "cells": [
  {
   "cell_type": "markdown",
   "metadata": {},
   "source": [
    "## 1. Install and Import Dependencies\n",
    "\n",
    "- `datasets` for loading data from Hugging Face\n",
    "- `ColBERTv2` https://github.com/stanford-futuredata/ColBERT"
   ]
  },
  {
   "cell_type": "code",
   "execution_count": 5,
   "metadata": {},
   "outputs": [],
   "source": [
    "# # Install if not already installed\n",
    "# !pip3 install datasets --quiet\n",
    "# !pip3 install nltk --quiet\n",
    "# !pip3 install spacy\n",
    "# !pip3 install torch\n",
    "# !python -m spacy download en_core_web_sm\n",
    "# !pip3 install matplotlib\n",
    "\n",
    "# Imports\n",
    "from datasets import load_dataset\n",
    "import torch\n",
    "import numpy as np\n",
    "import matplotlib.pyplot as plt"
   ]
  },
  {
   "cell_type": "markdown",
   "metadata": {},
   "source": [
    "## 2. Load a 1% Sample from the Wikipedia Dataset\n",
    "\n",
    "We'll load a small subset (`train[:1%]`) to keep things fast."
   ]
  },
  {
   "cell_type": "code",
   "execution_count": 6,
   "metadata": {},
   "outputs": [
    {
     "name": "stdout",
     "output_type": "stream",
     "text": [
      "Sampled 64587 documents\n",
      "\n",
      "Example text:\n",
      "\n",
      "Glass is a non-crystalline, often transparent amorphous solid, that has widespread practical, technological, and decorative use in, for example, window panes, tableware, and optics. Glass is most often formed by rapid cooling (quenching) of the molten form; some glasses such as volcanic glass are naturally occurring. The most familiar, and historically the oldest, types of manufactured glass are \"silicate glasses\" based on the chemical compound silica (silicon dioxide, or quartz), the primary constituent of sand. Soda-lime glass, containing around 70% silica, accounts for around 90% of manufactured glass. The term glass, in popular usage, is often used to refer only to this type of material, although silica-free glasses often have desirable properties for applications in modern communications technology. Some objects, such as drinking glasses and eyeglasses, are so commonly made of silicate-based glass that they are simply called by the name of the material.\n",
      "\n",
      "Although brittle, buried silicate glass will survive for very long periods if not disturbed, and many examples of glass fragments exist from early glass-making cultures. Archaeological evidence suggests glass-making dates back to at least 3,600 BC in Mesopotamia, Egypt, or Syria. The earliest known glass objects were beads, perhaps created accidentally during metalworking or the production of faience. Due to its ease of formability into any shape, glass has been traditionally used for vessels, such as bowls, vases, bottles, jars and drinking glasses. In its most solid forms, it has also been used for paperweights and marbles. Glass can be coloured by adding metal salts or painted and printed as enamelled glass. \n",
      "The refractive, reflective and transmission properties of glass make glass suitable for manufacturing optical lenses, prisms, and optoelectronics materials. Extruded glass fibres have application as optical fibres in communications networks, thermal insulating material when matted as glass wool so as to\n"
     ]
    }
   ],
   "source": [
    "wiki = load_dataset(\"wikipedia\", \"20220301.en\", split=\"train[:1%]\", trust_remote_code=True)\n",
    "print(f\"Sampled {len(wiki)} documents\\n\")\n",
    "print(\"Example text:\\n\")\n",
    "print(wiki[6000]['text'][:2000]) "
   ]
  },
  {
   "cell_type": "markdown",
   "metadata": {},
   "source": [
    "## 3. Set Up the ColBERTv2 Embeddings, to do so we need to read their documentation:\n",
    "\n",
    "https://github.com/stanford-futuredata/ColBERT"
   ]
  }
 ],
 "metadata": {
  "kernelspec": {
   "display_name": ".venv",
   "language": "python",
   "name": "python3"
  },
  "language_info": {
   "codemirror_mode": {
    "name": "ipython",
    "version": 3
   },
   "file_extension": ".py",
   "mimetype": "text/x-python",
   "name": "python",
   "nbconvert_exporter": "python",
   "pygments_lexer": "ipython3",
   "version": "3.12.7"
  }
 },
 "nbformat": 4,
 "nbformat_minor": 2
}
